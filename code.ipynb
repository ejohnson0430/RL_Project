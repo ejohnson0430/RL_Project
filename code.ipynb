{
 "cells": [
  {
   "cell_type": "code",
   "execution_count": 1,
   "metadata": {},
   "outputs": [],
   "source": [
    "import numpy as np\n",
    "import csv\n",
    "from itertools import product"
   ]
  },
  {
   "cell_type": "code",
   "execution_count": 2,
   "metadata": {},
   "outputs": [],
   "source": [
    "def parse_csv(filepath):\n",
    "    with open(filepath) as csv_file:\n",
    "        csv_reader = csv.reader(csv_file, delimiter=',')\n",
    "        line_count = 1\n",
    "        episodes = []\n",
    "        for row in csv_reader:\n",
    "            if line_count==1: m = int(row[0])\n",
    "            elif line_count==2: num_actions = int(row[0])\n",
    "            elif line_count==3: k = int(row[0])\n",
    "            elif line_count==4: \n",
    "                state_rep_size = (k+1)**m\n",
    "                theta_b = np.array(row, dtype=np.float).reshape(num_actions, state_rep_size).T\n",
    "            elif line_count==5: n = int(row[0])\n",
    "            elif line_count<=(n+5): episodes.append(np.array(row, dtype=np.float))\n",
    "            else: policy_test = np.array(row, dtype=np.float)\n",
    "            line_count += 1\n",
    "    return m, num_actions, k, theta_b, episodes, policy_test\n",
    "    \n",
    "def softmax(x):\n",
    "    return np.exp(x)/sum(np.exp(x))\n",
    "\n",
    "def pi(s,theta,c):\n",
    "    phi_s = np.cos(np.pi * np.dot(c,s)).flatten()\n",
    "    return softmax(np.dot(phi_s,theta))"
   ]
  },
  {
   "cell_type": "code",
   "execution_count": 3,
   "metadata": {},
   "outputs": [
    {
     "name": "stdout",
     "output_type": "stream",
     "text": [
      "num state features (m): 1\n",
      "num actions: 2\n",
      "fourier basis order (k): 1\n",
      "theta_b: \n",
      "[[ 0.01  1.  ]\n",
      " [-0.01  1.  ]]\n",
      "num episodes: 200000\n",
      "first episode: [ 0.419908   1.         0.992628   0.366283   0.        10.\n",
      "  0.0622811  1.         2.98566    0.327772   1.         1.69524\n",
      "  0.612293   0.         6.10134  ]\n",
      "policy expected: [0.775818 0.197512 0.878759 0.819091 0.345012]\n",
      "policy actual: [0.77581796 0.19751227 0.87875879 0.81909146 0.34501192]\n"
     ]
    }
   ],
   "source": [
    "m, num_actions, k, theta_b, episodes, policy_test_expected = parse_csv('data.csv')\n",
    "c = np.flip(list(product(range(k+1), repeat=m)), axis=1)\n",
    "\n",
    "print(f'num state features (m): {m}')\n",
    "print(f'num actions: {num_actions}')\n",
    "print(f'fourier basis order (k): {k}')\n",
    "print(f'theta_b: \\n{theta_b}')\n",
    "print(f'num episodes: {len(episodes)}')\n",
    "print(f'first episode: {episodes[0]}')\n",
    "\n",
    "policy_test_actual = np.array([pi(state, theta_b, c) for state in episodes[0][::3]])\n",
    "policy_test_actual = policy_test_actual[np.arange(policy_test_actual.shape[0]),np.array(episodes[0][1::3],dtype=int)]\n",
    "print(f'policy expected: {policy_test_expected}')\n",
    "print(f'policy actual: {policy_test_actual}')"
   ]
  }
 ],
 "metadata": {
  "kernelspec": {
   "display_name": "Python 3",
   "language": "python",
   "name": "python3"
  },
  "language_info": {
   "codemirror_mode": {
    "name": "ipython",
    "version": 3
   },
   "file_extension": ".py",
   "mimetype": "text/x-python",
   "name": "python",
   "nbconvert_exporter": "python",
   "pygments_lexer": "ipython3",
   "version": "3.6.4"
  }
 },
 "nbformat": 4,
 "nbformat_minor": 2
}
