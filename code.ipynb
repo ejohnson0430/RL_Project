{
 "cells": [
  {
   "cell_type": "code",
   "execution_count": 1,
   "metadata": {},
   "outputs": [],
   "source": [
    "import numpy as np\n",
    "import csv\n",
    "from itertools import product\n",
    "from functools import partial"
   ]
  },
  {
   "cell_type": "code",
   "execution_count": 2,
   "metadata": {},
   "outputs": [],
   "source": [
    "def parse_csv(filepath):\n",
    "    with open(filepath) as csv_file:\n",
    "        csv_reader = csv.reader(csv_file, delimiter=',')\n",
    "        line_count = 1\n",
    "        episodes = []\n",
    "        m = int(next(csv_reader)[0])\n",
    "        num_actions = int(next(csv_reader)[0])\n",
    "        k = int(next(csv_reader)[0])\n",
    "        state_rep_size = (k+1)**m\n",
    "        theta_b = np.array(next(csv_reader), dtype=np.float).reshape(num_actions, state_rep_size).T\n",
    "        n = int(next(csv_reader)[0])\n",
    "        for _ in range(n):\n",
    "            episodes.append(np.array(next(csv_reader), dtype=np.float))\n",
    "        policy_test_expected = np.array(next(csv_reader), dtype=np.float)\n",
    "        return m, num_actions, k, theta_b, episodes, policy_test_expected    \n",
    "\n",
    "def softmax(x):\n",
    "    return np.exp(x)/sum(np.exp(x))\n",
    "\n",
    "def pi(theta,c,s):\n",
    "    phi_s = np.cos(np.pi * np.dot(c,s)).flatten()\n",
    "    return softmax(np.dot(phi_s,theta))\n",
    "\n",
    "def PDIS(H, pi_e, pi_b, gamma=1):\n",
    "    L = int(H.size/3)\n",
    "    S = H[0::3]\n",
    "    A = H[1::3].astype(int)\n",
    "    R = H[2::3]\n",
    "    pi_e_array = np.array([pi_e(S[i])[A[i]] for i in range(L)])\n",
    "    pi_b_array = np.array([pi_b(S[i])[A[i]] for i in range(L)])\n",
    "    importance_weights = pi_e_array / pi_b_array\n",
    "    prod_importance_weights = np.cumprod(importance_weights)\n",
    "    gamma_array = gamma**np.arange(L)\n",
    "    return np.sum(gamma_array * prod_importance_weights * R)"
   ]
  },
  {
   "cell_type": "markdown",
   "metadata": {},
   "source": [
    "## Test policy function"
   ]
  },
  {
   "cell_type": "code",
   "execution_count": 3,
   "metadata": {},
   "outputs": [
    {
     "name": "stdout",
     "output_type": "stream",
     "text": [
      "num state features (m): 1\n",
      "num actions: 2\n",
      "fourier basis order (k): 1\n",
      "theta_b: \n",
      "[[ 0.01  1.  ]\n",
      " [-0.01  1.  ]]\n",
      "num episodes: 200000\n",
      "first episode: [ 0.419908   1.         0.992628   0.366283   0.        10.\n",
      "  0.0622811  1.         2.98566    0.327772   1.         1.69524\n",
      "  0.612293   0.         6.10134  ]\n",
      "policy expected: [0.775818 0.197512 0.878759 0.819091 0.345012]\n",
      "policy actual: [0.77581796 0.19751227 0.87875879 0.81909146 0.34501192]\n"
     ]
    }
   ],
   "source": [
    "m, num_actions, k, theta_b, episodes, policy_test_expected = parse_csv('data.csv')\n",
    "c = np.flip(list(product(range(k+1), repeat=m)), axis=1)\n",
    "pi_b = partial(pi,theta_b,c)\n",
    "\n",
    "H_test = episodes[0]\n",
    "S_test = H_test[0::3]\n",
    "A_test = H_test[1::3].astype(int)\n",
    "policy_test_actual = np.array([pi_b(S_test[i])[A_test[i]] for i in range(S_test.size)])\n",
    "\n",
    "print(f'num state features (m): {m}')\n",
    "print(f'num actions: {num_actions}')\n",
    "print(f'fourier basis order (k): {k}')\n",
    "print(f'theta_b: \\n{theta_b}')\n",
    "print(f'num episodes: {len(episodes)}')\n",
    "print(f'first episode: {episodes[0]}')\n",
    "print(f'policy expected: {policy_test_expected}')\n",
    "print(f'policy actual: {policy_test_actual}')"
   ]
  },
  {
   "cell_type": "markdown",
   "metadata": {},
   "source": [
    "## Test PDIS"
   ]
  },
  {
   "cell_type": "code",
   "execution_count": 4,
   "metadata": {},
   "outputs": [
    {
     "name": "stdout",
     "output_type": "stream",
     "text": [
      "first J(pi_e): 25.69744378193233\n",
      "first J(pi_b): 21.774867999999998\n",
      "mean  J(pi_e): 4.113746017365581\n",
      "mean  J(pi_b): 1.0031260507163062\n",
      "std   J(pi_e): 19.755544874488958\n",
      "std   J(pi_b): 6.834558113981664\n"
     ]
    }
   ],
   "source": [
    "theta_e = np.ones(4).reshape([2,2])\n",
    "pi_e = partial(pi,theta_e,c)\n",
    "PDIS_array = [PDIS(episode, pi_e, pi_b) for episode in episodes]\n",
    "b_array = [np.sum(episode[2::3]) for episode in episodes]\n",
    "\n",
    "print(f'first J(pi_e): {PDIS_array[0]}')\n",
    "print(f'first J(pi_b): {b_array[0]}')\n",
    "print(f'mean  J(pi_e): {np.mean(PDIS_array)}')\n",
    "print(f'mean  J(pi_b): {np.mean(b_array)}')\n",
    "print(f'std   J(pi_e): {np.std(PDIS_array)}')\n",
    "print(f'std   J(pi_b): {np.std(b_array)}')"
   ]
  }
 ],
 "metadata": {
  "kernelspec": {
   "display_name": "Python 3",
   "language": "python",
   "name": "python3"
  },
  "language_info": {
   "codemirror_mode": {
    "name": "ipython",
    "version": 3
   },
   "file_extension": ".py",
   "mimetype": "text/x-python",
   "name": "python",
   "nbconvert_exporter": "python",
   "pygments_lexer": "ipython3",
   "version": "3.6.4"
  }
 },
 "nbformat": 4,
 "nbformat_minor": 2
}
